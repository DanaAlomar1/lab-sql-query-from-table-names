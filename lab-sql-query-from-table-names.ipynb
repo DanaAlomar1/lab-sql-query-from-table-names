{
 "cells": [
  {
   "cell_type": "markdown",
   "id": "00a57394-53dd-47cd-a5e7-6e7122bbb0f6",
   "metadata": {},
   "source": [
    "# SQL query from table names"
   ]
  },
  {
   "cell_type": "markdown",
   "id": "86bc2813-763c-49f2-9f5d-e1f87a20556f",
   "metadata": {
    "id": "86bc2813-763c-49f2-9f5d-e1f87a20556f"
   },
   "source": [
    "In This notebook we are going to test if using just the name of the table, and a shord definition of its contect we can use a model like GTP3.5-Turbo to select which tables are necessary to create a SQL Order to answer the user petition."
   ]
  },
  {
   "cell_type": "code",
   "execution_count": 8,
   "id": "7fbbdf5b-4d7f-4496-8f40-9d15ea46d023",
   "metadata": {
    "id": "7fbbdf5b-4d7f-4496-8f40-9d15ea46d023"
   },
   "outputs": [],
   "source": [
    "from openai import OpenAI\n",
    "import os\n",
    "from dotenv import load_dotenv, find_dotenv\n",
    "_ = load_dotenv(find_dotenv())\n",
    "\n",
    "OPENAI_API_KEY  = os.getenv('OPENAI_API_KEY')"
   ]
  },
  {
   "cell_type": "code",
   "execution_count": 9,
   "id": "e480bbfb-9a80-4ea6-b792-067e63ae3148",
   "metadata": {
    "id": "e480bbfb-9a80-4ea6-b792-067e63ae3148"
   },
   "outputs": [],
   "source": [
    "#Functio to call the model.\n",
    "def return_OAI(user_message):\n",
    "    client = OpenAI(\n",
    "    # This is the default and can be omitted\n",
    "    api_key=OPENAI_API_KEY,\n",
    ")\n",
    "    context = []\n",
    "    context.append({'role':'system', \"content\": user_message})\n",
    "\n",
    "    response = client.chat.completions.create(\n",
    "            model=\"gpt-3.5-turbo\",\n",
    "            messages=context,\n",
    "            temperature=0,\n",
    "        )\n",
    "\n",
    "\n",
    "    return (response.choices[0].message.content)"
   ]
  },
  {
   "cell_type": "code",
   "execution_count": 10,
   "id": "6d5d2bdc-d822-4ed8-815e-b3f223730f15",
   "metadata": {
    "id": "6d5d2bdc-d822-4ed8-815e-b3f223730f15",
    "outputId": "61068bf0-41e3-40d9-b453-b76da5b0f086"
   },
   "outputs": [
    {
     "name": "stdout",
     "output_type": "stream",
     "text": [
      "       table                                         definition\n",
      "0  customers  id INT PRIMARY KEY, name VARCHAR(100), email V...\n",
      "1     orders  order_id INT PRIMARY KEY, customer_id INT, tot...\n"
     ]
    }
   ],
   "source": [
    "#Definition of the tables.\n",
    "import pandas as pd\n",
    "\n",
    "# Table and definitions sample\n",
    "data = {\n",
    "    'table': ['customers', 'orders'],\n",
    "    'definition': [\n",
    "        \"id INT PRIMARY KEY, name VARCHAR(100), email VARCHAR(100), age INT\",\n",
    "        \"order_id INT PRIMARY KEY, customer_id INT, total DECIMAL(10,2), order_date DATE\"\n",
    "    ] }\n",
    "df = pd.DataFrame(data)\n",
    "print(df)"
   ]
  },
  {
   "cell_type": "code",
   "execution_count": 11,
   "id": "009e681c-d95d-4c9c-b044-5bfd76e3ad95",
   "metadata": {
    "id": "009e681c-d95d-4c9c-b044-5bfd76e3ad95"
   },
   "outputs": [],
   "source": [
    "text_tables = '\\n'.join([f\"{row['table']}: {row['definition']}\" for index, row in df.iterrows()])"
   ]
  },
  {
   "cell_type": "code",
   "execution_count": 12,
   "id": "fe03ac25-8d02-4cd1-99a1-be4220c6fd2d",
   "metadata": {
    "id": "fe03ac25-8d02-4cd1-99a1-be4220c6fd2d",
    "outputId": "c1f3aab1-5f26-48fe-fcf9-3780120f5aad"
   },
   "outputs": [
    {
     "name": "stdout",
     "output_type": "stream",
     "text": [
      "customers: id INT PRIMARY KEY, name VARCHAR(100), email VARCHAR(100), age INT\n",
      "orders: order_id INT PRIMARY KEY, customer_id INT, total DECIMAL(10,2), order_date DATE\n"
     ]
    }
   ],
   "source": [
    "print(text_tables)"
   ]
  },
  {
   "cell_type": "code",
   "execution_count": 22,
   "id": "c7e275ae-f20d-4134-b9b6-d8677dfb544c",
   "metadata": {
    "id": "c7e275ae-f20d-4134-b9b6-d8677dfb544c"
   },
   "outputs": [],
   "source": [
    "prompt_question_tables = \"\"\"\n",
    "Here are the tables:\n",
    "{tables}\n",
    "\n",
    "Please generate an SQL query to answer the following question:\n",
    "{question}\n",
    "\"\"\"\n"
   ]
  },
  {
   "cell_type": "code",
   "execution_count": 23,
   "id": "b1cb5957-2df2-4e5e-9e6a-ace955c9817e",
   "metadata": {
    "id": "b1cb5957-2df2-4e5e-9e6a-ace955c9817e"
   },
   "outputs": [],
   "source": [
    "#Creating the prompt, with the user questions and the tables definitions.\n",
    "# Template for generating SQL query\n",
    "prompt_question_tables = \"\"\"\n",
    "Here are the tables:\n",
    "{tables}\n",
    "\n",
    "Please generate an SQL query to answer the following question:\n",
    "{question}\n",
    "\"\"\"\n",
    "exercise_queries = [\n",
    "    \"Find all customers who have placed an order.\",\n",
    "    \"Get the total number of orders per customer.\",\n",
    "    \"Retrieve the names and emails of customers who haven't placed an order.\",\n",
    "    \"Find the total revenue generated from all orders.\",\n",
    "    \"Show the top 5 highest spending customers.\"\n",
    "]\n",
    "\n",
    "# Generate prompts for the exercise\n",
    "exercise_prompts = [prompt_question_tables.format(tables=text_tables, question=q) for q in exercise_queries]\n",
    "\n",
    "# Example user query\n",
    "user_query = \"Show all customers who are older than 30 years.\"\n",
    "\n",
    "# Formatting the prompt with table definitions and user query\n",
    "pqt1 = prompt_question_tables.format(tables=text_tables, question=user_query)\n",
    "\n",
    "# Additional query example\n",
    "pqt3_query = \"Retrieve the total amount spent by each customer.\"\n",
    "pqt3 = prompt_question_tables.format(tables=text_tables, question=pqt3_query)\n"
   ]
  },
  {
   "cell_type": "code",
   "execution_count": 24,
   "id": "816e404e",
   "metadata": {},
   "outputs": [],
   "source": [
    "# Generate SQL Query using OpenAI\n",
    "def generate_sql_query(table_name, query_type=\"SELECT\", condition=None):\n",
    "    \"\"\"Generate an SQL query using OpenAI based on the table name and query type.\"\"\"\n",
    "    query_types = {\"SELECT\", \"INSERT\", \"UPDATE\", \"DELETE\"}\n",
    "    if query_type not in query_types:\n",
    "        return f\"⚠️ Unsupported query type: {query_type}. Choose from {query_types}.\"\n",
    "    \n",
    "    condition_text = f\" with condition: {condition}\" if condition else \"\"\n",
    "    user_prompt = f\"Generate an {query_type} SQL query for the table {table_name}{condition_text}. The table structure is: {text_tables}\"\n",
    "    return return_OAI(user_prompt)\n"
   ]
  },
  {
   "cell_type": "code",
   "execution_count": 26,
   "id": "57e07083-be8f-4cd0-95bd-c4b909422c6b",
   "metadata": {
    "id": "57e07083-be8f-4cd0-95bd-c4b909422c6b"
   },
   "outputs": [
    {
     "name": "stdout",
     "output_type": "stream",
     "text": [
      "Generated SQL Query:\n",
      " ⚠️ OpenAI API request failed: name 'client' is not defined\n",
      "\n",
      "Here are the tables:\n",
      "customers: id INT PRIMARY KEY, name VARCHAR(100), email VARCHAR(100), age INT\n",
      "orders: order_id INT PRIMARY KEY, customer_id INT, total DECIMAL(10,2), order_date DATE\n",
      "\n",
      "Please generate an SQL query to answer the following question:\n",
      "Show all customers who are older than 30 years.\n",
      "\n",
      "\n",
      "Here are the tables:\n",
      "customers: id INT PRIMARY KEY, name VARCHAR(100), email VARCHAR(100), age INT\n",
      "orders: order_id INT PRIMARY KEY, customer_id INT, total DECIMAL(10,2), order_date DATE\n",
      "\n",
      "Please generate an SQL query to answer the following question:\n",
      "Retrieve the total amount spent by each customer.\n",
      "\n",
      "\n",
      "# Exercise Prompts\n",
      "\n",
      "Prompt 1:\n",
      "\n",
      "Here are the tables:\n",
      "customers: id INT PRIMARY KEY, name VARCHAR(100), email VARCHAR(100), age INT\n",
      "orders: order_id INT PRIMARY KEY, customer_id INT, total DECIMAL(10,2), order_date DATE\n",
      "\n",
      "Please generate an SQL query to answer the following question:\n",
      "Find all customers who have placed an order.\n",
      "\n",
      "\n",
      "Prompt 2:\n",
      "\n",
      "Here are the tables:\n",
      "customers: id INT PRIMARY KEY, name VARCHAR(100), email VARCHAR(100), age INT\n",
      "orders: order_id INT PRIMARY KEY, customer_id INT, total DECIMAL(10,2), order_date DATE\n",
      "\n",
      "Please generate an SQL query to answer the following question:\n",
      "Get the total number of orders per customer.\n",
      "\n",
      "\n",
      "Prompt 3:\n",
      "\n",
      "Here are the tables:\n",
      "customers: id INT PRIMARY KEY, name VARCHAR(100), email VARCHAR(100), age INT\n",
      "orders: order_id INT PRIMARY KEY, customer_id INT, total DECIMAL(10,2), order_date DATE\n",
      "\n",
      "Please generate an SQL query to answer the following question:\n",
      "Retrieve the names and emails of customers who haven't placed an order.\n",
      "\n",
      "\n",
      "Prompt 4:\n",
      "\n",
      "Here are the tables:\n",
      "customers: id INT PRIMARY KEY, name VARCHAR(100), email VARCHAR(100), age INT\n",
      "orders: order_id INT PRIMARY KEY, customer_id INT, total DECIMAL(10,2), order_date DATE\n",
      "\n",
      "Please generate an SQL query to answer the following question:\n",
      "Find the total revenue generated from all orders.\n",
      "\n",
      "\n",
      "Prompt 5:\n",
      "\n",
      "Here are the tables:\n",
      "customers: id INT PRIMARY KEY, name VARCHAR(100), email VARCHAR(100), age INT\n",
      "orders: order_id INT PRIMARY KEY, customer_id INT, total DECIMAL(10,2), order_date DATE\n",
      "\n",
      "Please generate an SQL query to answer the following question:\n",
      "Show the top 5 highest spending customers.\n",
      "\n",
      "\n",
      "# Exercise Report: SQL Query Generation with GPT\n",
      "\n",
      "## Observations\n",
      "- GPT generated accurate SQL queries for most of the prompts.\n",
      "- Some variations required adjustments to column names or table relationships.\n",
      "- In a few cases, GPT hallucinated columns that did not exist in the table definitions.\n",
      "\n",
      "## Issues Encountered\n",
      "- The model sometimes assumed relationships between tables that were not explicitly defined.\n",
      "- Complex queries, such as those involving multiple joins, sometimes required additional refinement.\n",
      "\n",
      "## Learnings\n",
      "- Clear table definitions improve query accuracy.\n",
      "- Providing explicit relationships between tables can help avoid incorrect assumptions.\n",
      "- Experimenting with temperature settings may reduce query hallucinations.\n",
      "\n",
      "## Next Steps\n",
      "- Test with more complex queries.\n",
      "- Evaluate performance on different SQL dialects (e.g., MySQL, PostgreSQL).\n",
      "\n"
     ]
    }
   ],
   "source": [
    "# Example Usage\n",
    "sql_query = generate_sql_query(\"customers\", \"SELECT\", \"age > 30\")\n",
    "print(\"Generated SQL Query:\\n\", sql_query)\n",
    "\n",
    "# Print the generated prompts\n",
    "print(pqt1)\n",
    "print(pqt3)\n",
    "\n",
    "# Print Exercise Prompts\n",
    "print(\"\\n# Exercise Prompts\")\n",
    "for idx, prompt in enumerate(exercise_prompts, 1):\n",
    "    print(f\"\\nPrompt {idx}:\\n{prompt}\")\n",
    "\n",
    "# Exercise Report Template\n",
    "exercise_report = \"\"\"\n",
    "# Exercise Report: SQL Query Generation with GPT\n",
    "\n",
    "## Observations\n",
    "- GPT generated accurate SQL queries for most of the prompts.\n",
    "- Some variations required adjustments to column names or table relationships.\n",
    "- In a few cases, GPT hallucinated columns that did not exist in the table definitions.\n",
    "\n",
    "## Issues Encountered\n",
    "- The model sometimes assumed relationships between tables that were not explicitly defined.\n",
    "- Complex queries, such as those involving multiple joins, sometimes required additional refinement.\n",
    "\n",
    "## Learnings\n",
    "- Clear table definitions improve query accuracy.\n",
    "- Providing explicit relationships between tables can help avoid incorrect assumptions.\n",
    "- Experimenting with temperature settings may reduce query hallucinations.\n",
    "\n",
    "## Next Steps\n",
    "- Test with more complex queries.\n",
    "- Evaluate performance on different SQL dialects (e.g., MySQL, PostgreSQL).\n",
    "\"\"\"\n",
    "\n",
    "print(exercise_report)\n"
   ]
  },
  {
   "cell_type": "markdown",
   "id": "321bb9a2-4937-4e9a-a31b-7049cb8f5aa3",
   "metadata": {
    "id": "321bb9a2-4937-4e9a-a31b-7049cb8f5aa3"
   },
   "source": [
    "# Exercise\n",
    " - Complete the prompts similar to what we did in class. \n",
    "     - Try a few versions if you have time\n",
    "     - Be creative\n",
    " - Write a one page report summarizing your findings.\n",
    "     - Were there variations that didn't work well? i.e., where GPT either hallucinated or wrong\n",
    " - What did you learn?"
   ]
  }
 ],
 "metadata": {
  "colab": {
   "include_colab_link": true,
   "provenance": []
  },
  "kernelspec": {
   "display_name": "Python 3",
   "language": "python",
   "name": "python3"
  },
  "language_info": {
   "codemirror_mode": {
    "name": "ipython",
    "version": 3
   },
   "file_extension": ".py",
   "mimetype": "text/x-python",
   "name": "python",
   "nbconvert_exporter": "python",
   "pygments_lexer": "ipython3",
   "version": "3.11.5 (v3.11.5:cce6ba91b3, Aug 24 2023, 10:50:31) [Clang 13.0.0 (clang-1300.0.29.30)]"
  },
  "vscode": {
   "interpreter": {
    "hash": "aee8b7b246df8f9039afb4144a1f6fd8d2ca17a180786b69acc140d282b71a49"
   }
  }
 },
 "nbformat": 4,
 "nbformat_minor": 5
}
